{
 "cells": [
  {
   "cell_type": "markdown",
   "metadata": {
    "collapsed": true,
    "pycharm": {
     "name": "#%% md\n"
    }
   },
   "source": [
    "# EXPERIMENTS\n",
    "## initialization\n",
    " * Do not forget to turn on the amplifier of the photodiode."
   ]
  },
  {
   "cell_type": "code",
   "execution_count": null,
   "outputs": [],
   "source": [
    "import measurement_device as md\n",
    "import simulation as sim\n",
    "import matplotlib.pyplot as plt\n",
    "import numpy as np\n",
    "import pickle\n",
    "from time import time"
   ],
   "metadata": {
    "collapsed": false,
    "pycharm": {
     "name": "#%%\n"
    }
   }
  },
  {
   "cell_type": "markdown",
   "source": [
    "## Experiment 1: cos signal\n",
    "  * sending a cos wave signal\n",
    "  * ### wave characteristics:\n",
    "    * $$ \\omega = 570 \\left[\\frac{1}{s}\\right] $$\n",
    "    * $$ A = 1 \\left[v\\right] $$\n",
    "    * $$ offset = 3 \\left[v\\right]\n",
    "  * ### measurements characteristics:\n",
    "    * $$ f = 1e4 \\left[Hz\\right] $$\n",
    "    * $$ duration = 5 \\left[s\\right] $$"
   ],
   "metadata": {
    "collapsed": false
   }
  },
  {
   "cell_type": "code",
   "execution_count": null,
   "outputs": [],
   "source": [
    "w = 570\n",
    "duration = 5\n",
    "rate = 10000\n",
    "filename = f\"cos_wave.pickle\"\n",
    "sig = np.cos(w * np.linspace(0, duration, duration * rate) * 2 * np.pi) / 2\n",
    "values = md.take_measurements(sig, rate)\n",
    "plt.plot(values)\n",
    "plt.show()\n",
    "sim.show_fft(values)\n",
    "with open(filename, \"wb+\") as f:\n",
    "    pickle.dump({\"signal\": sig, \"received\": values, \"interval\": duration, \"rate\": rate, \"time\": time()}, f)\n"
   ],
   "metadata": {
    "collapsed": false,
    "pycharm": {
     "name": "#%%\n"
    }
   }
  },
  {
   "cell_type": "markdown",
   "source": [
    "## Experiment 2: square signal\n",
    " * write the details of the experiment"
   ],
   "metadata": {
    "collapsed": false
   }
  },
  {
   "cell_type": "code",
   "execution_count": null,
   "outputs": [],
   "source": [],
   "metadata": {
    "collapsed": false,
    "pycharm": {
     "name": "#%%\n"
    }
   }
  },
  {
   "cell_type": "markdown",
   "source": [
    "## Experiment 3:\n",
    " * write the details of the experiment"
   ],
   "metadata": {
    "collapsed": false
   }
  },
  {
   "cell_type": "code",
   "execution_count": null,
   "outputs": [],
   "source": [],
   "metadata": {
    "collapsed": false,
    "pycharm": {
     "name": "#%%\n"
    }
   }
  },
  {
   "cell_type": "markdown",
   "source": [
    "## Experiment 4:\n",
    " * write the details of the experiment"
   ],
   "metadata": {
    "collapsed": false,
    "pycharm": {
     "name": "#%% md\n"
    }
   }
  },
  {
   "cell_type": "code",
   "execution_count": null,
   "outputs": [],
   "source": [],
   "metadata": {
    "collapsed": false,
    "pycharm": {
     "name": "#%%\n"
    }
   }
  }
 ],
 "metadata": {
  "kernelspec": {
   "display_name": "Python 3",
   "language": "python",
   "name": "python3"
  },
  "language_info": {
   "codemirror_mode": {
    "name": "ipython",
    "version": 2
   },
   "file_extension": ".py",
   "mimetype": "text/x-python",
   "name": "python",
   "nbconvert_exporter": "python",
   "pygments_lexer": "ipython2",
   "version": "2.7.6"
  }
 },
 "nbformat": 4,
 "nbformat_minor": 0
}